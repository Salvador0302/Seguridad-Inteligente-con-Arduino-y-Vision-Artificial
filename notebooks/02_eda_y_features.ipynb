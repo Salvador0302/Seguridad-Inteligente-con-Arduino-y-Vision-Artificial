{
 "cells": [
  {
   "cell_type": "markdown",
   "id": "9d3bc01e",
   "metadata": {},
   "source": [
    "# 02 - EDA y Feature Engineering\n",
    "\n",
    "**Proyecto:** Seguridad Inteligente con Arduino y Visión Artificial\n",
    "\n",
    "Este notebook realiza:\n",
    "1. Análisis Exploratorio de Datos (EDA)\n",
    "2. Ingeniería de Características (Feature Engineering)\n",
    "3. Generación de visualizaciones y reportes\n",
    "\n",
    "---"
   ]
  },
  {
   "cell_type": "markdown",
   "id": "aa3b8525",
   "metadata": {},
   "source": [
    "## 1. Configuración Inicial"
   ]
  },
  {
   "cell_type": "code",
   "execution_count": null,
   "id": "0d04a2da",
   "metadata": {},
   "outputs": [],
   "source": [
    "# Importar librerías necesarias\n",
    "import sys\n",
    "\n",
    "import pandas as pd\n",
    "import numpy as np\n",
    "import matplotlib.pyplot as plt\n",
    "import seaborn as sns\n",
    "import plotly.express as px\n",
    "import plotly.graph_objects as go\n",
    "from pathlib import Path\n",
    "\n",
    "# Clases FeatureEngineering y EDAAnalyzer se definen en la siguiente celda\n",
    "# from features import FeatureEngineering\n",
    "# from eda import EDAAnalyzer\n",
    "\n",
    "# Configuración de visualización\n",
    "plt.style.use('seaborn-v0_8-whitegrid')\n",
    "sns.set_palette(\"Set2\")\n",
    "%matplotlib inline\n",
    "\n",
    "# Opciones de pandas\n",
    "pd.set_option('display.max_columns', None)\n",
    "pd.set_option('display.max_rows', 100)\n",
    "\n",
    "# Configuración de plotly\n",
    "import plotly.io as pio\n",
    "pio.templates.default = \"plotly_white\"\n",
    "\n",
    "print(\"✓ Librerías importadas correctamente\")"
   ]
  },
  {
   "cell_type": "code",
   "execution_count": null,
   "id": "cb1b944a",
   "metadata": {},
   "outputs": [],
   "source": [
    "# Clases internas para trabajar sin carpeta src\n",
    "import yaml\n",
    "from typing import Dict\n",
    "\n",
    "class FeatureEngineering:\n",
    "    def __init__(self, config_path: str = \"configs/config.yaml\"):\n",
    "        with open(config_path, 'r') as f:\n",
    "            self.config = yaml.safe_load(f)\n",
    "        self.processed_path = Path(self.config['data']['processed_path'])\n",
    "        self.time_window = self.config['features']['time_window']\n",
    "\n",
    "    def load_data(self, filename: str = None) -> pd.DataFrame:\n",
    "        if filename is None:\n",
    "            filename = self.config['data']['output_file']\n",
    "        file_path = self.processed_path / filename\n",
    "        return pd.read_csv(file_path, parse_dates=['date'])\n",
    "\n",
    "    def create_temporal_features(self, df: pd.DataFrame) -> pd.DataFrame:\n",
    "        df = df.copy()\n",
    "        df['hour_sin'] = np.sin(2 * np.pi * df['hour'] / 24)\n",
    "        df['hour_cos'] = np.cos(2 * np.pi * df['hour'] / 24)\n",
    "        df['day_sin'] = np.sin(2 * np.pi * df['day_of_week'] / 7)\n",
    "        df['day_cos'] = np.cos(2 * np.pi * df['day_of_week'] / 7)\n",
    "        df['period_of_day'] = pd.cut(df['hour'], bins=[0, 6, 12, 18, 24], labels=['Madrugada', 'Mañana', 'Tarde', 'Noche'], include_lowest=True)\n",
    "        df['is_weekend'] = df['day_of_week'].isin([5, 6]).astype(int)\n",
    "        return df\n",
    "\n",
    "    def create_event_features(self, df: pd.DataFrame) -> pd.DataFrame:\n",
    "        df = df.copy().sort_values('date')\n",
    "        df['events_in_window'] = df.rolling(window=f\"{self.time_window}min\", on='date').size()\n",
    "        df['time_since_last'] = df['date'].diff().dt.total_seconds() / 60\n",
    "        df['time_to_next'] = -df['date'].diff(-1).dt.total_seconds() / 60\n",
    "        df['events_per_hour'] = df.groupby([df['date'].dt.date, df['hour']])['id'].transform('count')\n",
    "        return df\n",
    "\n",
    "    def create_text_features(self, df: pd.DataFrame) -> pd.DataFrame:\n",
    "        df = df.copy()\n",
    "        df['text_length'] = df['text'].fillna('').str.len()\n",
    "        df['word_count'] = df['text'].fillna('').str.split().str.len()\n",
    "        keywords = ['alarma', 'movimiento', 'puerta', 'sensor', 'alerta']\n",
    "        for keyword in keywords:\n",
    "            df[f'has_{keyword}'] = df['text'].fillna('').str.lower().str.contains(keyword).astype(int)\n",
    "        return df\n",
    "\n",
    "    def create_aggregated_features(self, df: pd.DataFrame) -> pd.DataFrame:\n",
    "        df = df.copy()\n",
    "        daily_counts = df.groupby(df['date'].dt.date).size()\n",
    "        df['events_same_day'] = df['date'].dt.date.map(daily_counts)\n",
    "        hourly_counts = df.groupby('hour').size()\n",
    "        df['avg_events_this_hour'] = df['hour'].map(hourly_counts)\n",
    "        photo_counts = df[df['has_photo']].groupby(df['date'].dt.date).size()\n",
    "        df['photos_same_day'] = df['date'].dt.date.map(photo_counts).fillna(0)\n",
    "        return df\n",
    "\n",
    "    def save_features(self, df: pd.DataFrame, filename: str = \"events_features.csv\"):\n",
    "        output_path = self.processed_path / filename\n",
    "        output_path.parent.mkdir(parents=True, exist_ok=True)\n",
    "        df.to_csv(output_path, index=False, encoding='utf-8')\n",
    "\n",
    "class EDAAnalyzer:\n",
    "    def __init__(self, config_path: str = \"configs/config.yaml\"):\n",
    "        with open(config_path, 'r') as f:\n",
    "            self.config = yaml.safe_load(f)\n",
    "        self.processed_path = Path(self.config['data']['processed_path'])\n",
    "        self.reports_path = Path(self.config['reports']['output_path'])\n",
    "        self.figures_path = self.reports_path / \"figures\"\n",
    "        self.figures_path.mkdir(parents=True, exist_ok=True)\n",
    "\n",
    "    def generate_summary_stats(self, df: pd.DataFrame) -> Dict:\n",
    "        return {\n",
    "            'total_events': len(df),\n",
    "            'date_range': {\n",
    "                'start': df['date'].min(),\n",
    "                'end': df['date'].max(),\n",
    "                'days': (df['date'].max() - df['date'].min()).days\n",
    "            },\n",
    "            'events_with_photos': df['has_photo'].sum() if 'has_photo' in df.columns else 0,\n",
    "            'unique_senders': df['from'].nunique() if 'from' in df.columns else 0,\n",
    "            'avg_events_per_day': len(df) / ((df['date'].max() - df['date'].min()).days + 1),\n",
    "            'hourly_distribution': df['hour'].value_counts().to_dict() if 'hour' in df.columns else {},\n",
    "            'daily_distribution': df['day_name'].value_counts().to_dict() if 'day_name' in df.columns else {}\n",
    "        }\n",
    "\n",
    "    def plot_time_series(self, df: pd.DataFrame):\n",
    "        plt.figure(figsize=(14, 6))\n",
    "        daily_events = df.groupby(df['date'].dt.date).size()\n",
    "        plt.plot(daily_events.index, daily_events.values, marker='o', linewidth=2)\n",
    "        plt.title('Eventos de Seguridad a lo Largo del Tiempo', fontsize=14, fontweight='bold')\n",
    "        plt.xlabel('Fecha')\n",
    "        plt.ylabel('Número de Eventos')\n",
    "        plt.xticks(rotation=45)\n",
    "        plt.grid(True, alpha=0.3)\n",
    "        plt.tight_layout()\n",
    "        output_path = self.figures_path / \"time_series.png\"\n",
    "        plt.savefig(output_path, dpi=300, bbox_inches='tight')\n",
    "        plt.close()\n",
    "\n",
    "    def plot_hourly_distribution(self, df: pd.DataFrame):\n",
    "        fig, (ax1, ax2) = plt.subplots(1, 2, figsize=(16, 6))\n",
    "        hourly = df['hour'].value_counts().sort_index()\n",
    "        ax1.bar(hourly.index, hourly.values, color='steelblue', alpha=0.7)\n",
    "        ax1.set_title('Distribución de Eventos por Hora del Día', fontsize=12, fontweight='bold')\n",
    "        ax1.set_xlabel('Hora del Día')\n",
    "        ax1.set_ylabel('Número de Eventos')\n",
    "        ax1.grid(axis='y', alpha=0.3)\n",
    "        if 'day_name' in df.columns:\n",
    "            import seaborn as sns\n",
    "            pivot = df.groupby(['hour', 'day_name']).size().unstack(fill_value=0)\n",
    "            day_order = ['Monday', 'Tuesday', 'Wednesday', 'Thursday', 'Friday', 'Saturday', 'Sunday']\n",
    "            pivot = pivot.reindex(columns=day_order, fill_value=0)\n",
    "            sns.heatmap(pivot, cmap='YlOrRd', annot=True, fmt='d', ax=ax2, cbar_kws={'label': 'Eventos'})\n",
    "            ax2.set_title('Heatmap: Eventos por Hora y Día', fontsize=12, fontweight='bold')\n",
    "            ax2.set_xlabel('Día de la Semana')\n",
    "            ax2.set_ylabel('Hora del Día')\n",
    "        plt.tight_layout()\n",
    "        output_path = self.figures_path / \"hourly_distribution.png\"\n",
    "        plt.savefig(output_path, dpi=300, bbox_inches='tight')\n",
    "        plt.close()\n",
    "\n",
    "    def plot_daily_distribution(self, df: pd.DataFrame):\n",
    "        plt.figure(figsize=(10, 6))\n",
    "        day_order = ['Monday', 'Tuesday', 'Wednesday', 'Thursday', 'Friday', 'Saturday', 'Sunday']\n",
    "        day_counts = df['day_name'].value_counts().reindex(day_order)\n",
    "        colors = ['#ff6b6b' if day in ['Saturday', 'Sunday'] else '#4ecdc4' for day in day_order]\n",
    "        plt.bar(range(len(day_counts)), day_counts.values, color=colors, alpha=0.7)\n",
    "        plt.xticks(range(len(day_counts)), day_counts.index, rotation=45)\n",
    "        plt.title('Distribución de Eventos por Día de la Semana', fontsize=14, fontweight='bold')\n",
    "        plt.xlabel('Día de la Semana')\n",
    "        plt.ylabel('Número de Eventos')\n",
    "        plt.grid(axis='y', alpha=0.3)\n",
    "        plt.tight_layout()\n",
    "        output_path = self.figures_path / \"daily_distribution.png\"\n",
    "        plt.savefig(output_path, dpi=300, bbox_inches='tight')\n",
    "        plt.close()\n",
    "\n",
    "    def plot_photo_analysis(self, df: pd.DataFrame):\n",
    "        if 'has_photo' not in df.columns:\n",
    "            return\n",
    "        fig, (ax1, ax2) = plt.subplots(1, 2, figsize=(14, 6))\n",
    "        photo_counts = df['has_photo'].value_counts()\n",
    "        colors = ['#ff7f0e', '#2ca02c']\n",
    "        ax1.pie(photo_counts.values, labels=['Sin Foto', 'Con Foto'], autopct='%1.1f%%', startangle=90, colors=colors)\n",
    "        ax1.set_title('Proporción de Eventos con Fotografía', fontsize=12, fontweight='bold')\n",
    "        if 'hour' in df.columns:\n",
    "            photo_by_hour = df[df['has_photo']].groupby('hour').size()\n",
    "            ax2.bar(photo_by_hour.index, photo_by_hour.values, color='coral', alpha=0.7)\n",
    "            ax2.set_title('Eventos con Foto por Hora del Día', fontsize=12, fontweight='bold')\n",
    "            ax2.set_xlabel('Hora del Día')\n",
    "            ax2.set_ylabel('Número de Eventos')\n",
    "            ax2.grid(axis='y', alpha=0.3)\n",
    "        plt.tight_layout()\n",
    "        output_path = self.figures_path / \"photo_analysis.png\"\n",
    "        plt.savefig(output_path, dpi=300, bbox_inches='tight')\n",
    "        plt.close()\n",
    "\n",
    "    def generate_report(self, df: pd.DataFrame, stats: Dict):\n",
    "        from datetime import datetime\n",
    "        report_path = self.reports_path / \"informe_EDA.md\"\n",
    "        with open(report_path, 'w', encoding='utf-8') as f:\n",
    "            f.write(\"# Informe de Análisis Exploratorio de Datos (EDA)\\n\\n\")\n",
    "            f.write(f\"**Fecha de generación:** {datetime.now().strftime('%Y-%m-%d %H:%M:%S')}\\n\\n\")\n",
    "            f.write(\"---\\n\\n\")\n",
    "            f.write(\"## 1. Resumen Ejecutivo\\n\\n\")\n",
    "            f.write(f\"- **Total de eventos registrados:** {stats['total_events']:,}\\n\")\n",
    "            f.write(f\"- **Período analizado:** {stats['date_range']['start']} a {stats['date_range']['end']}\\n\")\n",
    "            f.write(f\"- **Duración:** {stats['date_range']['days']} días\\n\")\n",
    "            f.write(f\"- **Eventos con fotografía:** {stats['events_with_photos']:,}\\n\")\n",
    "            f.write(f\"- **Promedio de eventos por día:** {stats['avg_events_per_day']:.2f}\\n\\n\")\n",
    "            f.write(\"---\\n\\n\")\n",
    "            f.write(\"## 2. Análisis Temporal\\n\\n\")\n",
    "            f.write(\"![Serie Temporal](figures/time_series.png)\\n\\n\")\n",
    "            f.write(\"![Distribución Horaria](figures/hourly_distribution.png)\\n\\n\")\n",
    "            f.write(\"![Distribución Diaria](figures/daily_distribution.png)\\n\\n\")\n",
    "            f.write(\"---\\n\\n\")\n",
    "            f.write(\"## 3. Análisis de Fotografías\\n\\n\")\n",
    "            f.write(\"![Análisis de Fotos](figures/photo_analysis.png)\\n\\n\")\n",
    "            f.write(\"---\\n\\n\")\n",
    "            f.write(\"## 4. Conclusiones y Recomendaciones\\n\\n\")\n",
    "            f.write(\"1. Patrón temporal de eventos identificado\\n\")\n",
    "            f.write(\"2. Distribución de eventos a lo largo del día y la semana\\n\")\n",
    "            f.write(\"3. Proporción de eventos con evidencia fotográfica\\n\")\n",
    "        "
   ]
  },
  {
   "cell_type": "markdown",
   "id": "6af026a2",
   "metadata": {},
   "source": [
    "## 2. Cargar Datos Limpios"
   ]
  },
  {
   "cell_type": "code",
   "execution_count": null,
   "id": "8a42ca2f",
   "metadata": {},
   "outputs": [],
   "source": [
    "# Cargar datos procesados del notebook anterior\n",
    "data_path = Path('../data/processed/events_clean.csv')\n",
    "\n",
    "if data_path.exists():\n",
    "    df = pd.read_csv(data_path, parse_dates=['date'])\n",
    "    print(f\"✓ Datos cargados: {len(df)} registros\")\n",
    "    print(f\"  Columnas: {list(df.columns)}\")\n",
    "    display(df.head())\n",
    "else:\n",
    "    print(\"⚠ Error: No se encontró el archivo de datos limpios\")\n",
    "    print(\"   Por favor, ejecuta primero el notebook 01_ingesta_y_limpieza.ipynb\")\n",
    "    df = None"
   ]
  },
  {
   "cell_type": "markdown",
   "id": "c9d4e033",
   "metadata": {},
   "source": [
    "## 3. Feature Engineering\n",
    "\n",
    "Generaremos características adicionales para enriquecer los datos."
   ]
  },
  {
   "cell_type": "code",
   "execution_count": null,
   "id": "086e7d2b",
   "metadata": {},
   "outputs": [],
   "source": [
    "# Inicializar el generador de features\n",
    "if df is not None:\n",
    "    feature_eng = FeatureEngineering(config_path='../configs/config.yaml')\n",
    "    print(\"✓ Feature Engineering inicializado\")"
   ]
  },
  {
   "cell_type": "markdown",
   "id": "0051743f",
   "metadata": {},
   "source": [
    "### 3.1 Características Temporales"
   ]
  },
  {
   "cell_type": "code",
   "execution_count": null,
   "id": "fedbc6c2",
   "metadata": {},
   "outputs": [],
   "source": [
    "# Generar características temporales\n",
    "if df is not None:\n",
    "    df_features = feature_eng.create_temporal_features(df)\n",
    "    \n",
    "    print(\"\\n=== Nuevas características temporales ===\")\n",
    "    temporal_cols = ['hour_sin', 'hour_cos', 'day_sin', 'day_cos', 'period_of_day', 'is_weekend']\n",
    "    display(df_features[['date', 'hour'] + temporal_cols].head())"
   ]
  },
  {
   "cell_type": "markdown",
   "id": "61fca1b6",
   "metadata": {},
   "source": [
    "### 3.2 Características de Eventos"
   ]
  },
  {
   "cell_type": "code",
   "execution_count": null,
   "id": "9e7533f3",
   "metadata": {},
   "outputs": [],
   "source": [
    "# Generar características de eventos\n",
    "if df is not None:\n",
    "    df_features = feature_eng.create_event_features(df_features)\n",
    "    \n",
    "    print(\"\\n=== Características de eventos ===\")\n",
    "    event_cols = ['events_in_window', 'time_since_last', 'time_to_next', 'events_per_hour']\n",
    "    display(df_features[['date'] + event_cols].head(10))"
   ]
  },
  {
   "cell_type": "markdown",
   "id": "fb36612d",
   "metadata": {},
   "source": [
    "### 3.3 Características de Texto"
   ]
  },
  {
   "cell_type": "code",
   "execution_count": null,
   "id": "32c0efb4",
   "metadata": {},
   "outputs": [],
   "source": [
    "# Generar características de texto\n",
    "if df is not None:\n",
    "    df_features = feature_eng.create_text_features(df_features)\n",
    "    \n",
    "    print(\"\\n=== Características de texto ===\")\n",
    "    text_cols = ['text_length', 'word_count', 'has_alarma', 'has_movimiento', 'has_puerta']\n",
    "    display(df_features[['text'] + text_cols].head())"
   ]
  },
  {
   "cell_type": "markdown",
   "id": "9833f6db",
   "metadata": {},
   "source": [
    "### 3.4 Características Agregadas"
   ]
  },
  {
   "cell_type": "code",
   "execution_count": null,
   "id": "cd7ebf38",
   "metadata": {},
   "outputs": [],
   "source": [
    "# Generar características agregadas\n",
    "if df is not None:\n",
    "    df_features = feature_eng.create_aggregated_features(df_features)\n",
    "    \n",
    "    print(\"\\n=== Características agregadas ===\")\n",
    "    agg_cols = ['events_same_day', 'avg_events_this_hour', 'photos_same_day']\n",
    "    display(df_features[['date', 'hour'] + agg_cols].head())"
   ]
  },
  {
   "cell_type": "markdown",
   "id": "3fbb4446",
   "metadata": {},
   "source": [
    "### 3.5 Guardar Features"
   ]
  },
  {
   "cell_type": "code",
   "execution_count": null,
   "id": "b1f43226",
   "metadata": {},
   "outputs": [],
   "source": [
    "# Guardar DataFrame con todas las características\n",
    "if df is not None:\n",
    "    feature_eng.save_features(df_features, 'events_features.csv')\n",
    "    print(f\"\\n✓ Total de características: {len(df_features.columns)}\")\n",
    "    print(f\"✓ Guardado en: data/processed/events_features.csv\")"
   ]
  },
  {
   "cell_type": "markdown",
   "id": "5e372f80",
   "metadata": {},
   "source": [
    "## 4. Análisis Exploratorio de Datos (EDA)\n",
    "\n",
    "Realizaremos un análisis visual completo de los datos."
   ]
  },
  {
   "cell_type": "code",
   "execution_count": null,
   "id": "fb58952b",
   "metadata": {},
   "outputs": [],
   "source": [
    "# Inicializar el analizador EDA\n",
    "if df is not None:\n",
    "    eda_analyzer = EDAAnalyzer(config_path='../configs/config.yaml')\n",
    "    print(\"✓ Analizador EDA inicializado\")"
   ]
  },
  {
   "cell_type": "markdown",
   "id": "77782d7f",
   "metadata": {},
   "source": [
    "### 4.1 Estadísticas Descriptivas"
   ]
  },
  {
   "cell_type": "code",
   "execution_count": null,
   "id": "56a56091",
   "metadata": {},
   "outputs": [],
   "source": [
    "# Generar estadísticas descriptivas\n",
    "if df is not None:\n",
    "    stats = eda_analyzer.generate_summary_stats(df)\n",
    "    \n",
    "    print(\"\\n=== Estadísticas Detalladas ===\")\n",
    "    for key, value in stats.items():\n",
    "        if isinstance(value, dict):\n",
    "            print(f\"\\n{key.upper()}:\")\n",
    "            for k, v in value.items():\n",
    "                print(f\"  {k}: {v}\")\n",
    "        elif not isinstance(value, dict):\n",
    "            print(f\"{key}: {value}\")"
   ]
  },
  {
   "cell_type": "markdown",
   "id": "b90d5bdb",
   "metadata": {},
   "source": [
    "### 4.2 Serie Temporal de Eventos"
   ]
  },
  {
   "cell_type": "code",
   "execution_count": null,
   "id": "2b34533b",
   "metadata": {},
   "outputs": [],
   "source": [
    "# Visualización interactiva con Plotly\n",
    "if df is not None:\n",
    "    daily_events = df.groupby(df['date'].dt.date).size().reset_index()\n",
    "    daily_events.columns = ['date', 'events']\n",
    "    \n",
    "    fig = px.line(\n",
    "        daily_events,\n",
    "        x='date',\n",
    "        y='events',\n",
    "        title='Serie Temporal de Eventos de Seguridad',\n",
    "        labels={'date': 'Fecha', 'events': 'Número de Eventos'}\n",
    "    )\n",
    "    fig.update_traces(line_color='#2ecc71', line_width=2)\n",
    "    fig.update_layout(hovermode='x unified')\n",
    "    fig.show()"
   ]
  },
  {
   "cell_type": "markdown",
   "id": "17ca3325",
   "metadata": {},
   "source": [
    "### 4.3 Distribución Horaria"
   ]
  },
  {
   "cell_type": "code",
   "execution_count": null,
   "id": "0e832064",
   "metadata": {},
   "outputs": [],
   "source": [
    "# Distribución por hora del día\n",
    "if df is not None and 'hour' in df.columns:\n",
    "    hourly_dist = df['hour'].value_counts().sort_index()\n",
    "    \n",
    "    fig = px.bar(\n",
    "        x=hourly_dist.index,\n",
    "        y=hourly_dist.values,\n",
    "        title='Distribución de Eventos por Hora del Día',\n",
    "        labels={'x': 'Hora del Día', 'y': 'Número de Eventos'}\n",
    "    )\n",
    "    fig.update_traces(marker_color='#3498db')\n",
    "    fig.show()"
   ]
  },
  {
   "cell_type": "markdown",
   "id": "5956119e",
   "metadata": {},
   "source": [
    "### 4.4 Heatmap de Actividad"
   ]
  },
  {
   "cell_type": "code",
   "execution_count": null,
   "id": "acbc2828",
   "metadata": {},
   "outputs": [],
   "source": [
    "# Heatmap de eventos por hora y día de la semana\n",
    "if df is not None and 'hour' in df.columns and 'day_name' in df.columns:\n",
    "    pivot = df.groupby(['hour', 'day_name']).size().unstack(fill_value=0)\n",
    "    day_order = ['Monday', 'Tuesday', 'Wednesday', 'Thursday', 'Friday', 'Saturday', 'Sunday']\n",
    "    pivot = pivot.reindex(columns=day_order, fill_value=0)\n",
    "    \n",
    "    fig = px.imshow(\n",
    "        pivot,\n",
    "        labels=dict(x='Día de la Semana', y='Hora del Día', color='Eventos'),\n",
    "        title='Heatmap de Actividad: Eventos por Hora y Día',\n",
    "        aspect='auto',\n",
    "        color_continuous_scale='YlOrRd'\n",
    "    )\n",
    "    fig.show()"
   ]
  },
  {
   "cell_type": "markdown",
   "id": "f2d024bf",
   "metadata": {},
   "source": [
    "### 4.5 Análisis de Fotos"
   ]
  },
  {
   "cell_type": "code",
   "execution_count": null,
   "id": "1b142915",
   "metadata": {},
   "outputs": [],
   "source": [
    "# Análisis de eventos con fotografías\n",
    "if df is not None and 'has_photo' in df.columns:\n",
    "    photo_stats = df['has_photo'].value_counts()\n",
    "    \n",
    "    fig = go.Figure(data=[go.Pie(\n",
    "        labels=['Sin Foto', 'Con Foto'],\n",
    "        values=photo_stats.values,\n",
    "        hole=.3,\n",
    "        marker_colors=['#e74c3c', '#2ecc71']\n",
    "    )])\n",
    "    \n",
    "    fig.update_layout(\n",
    "        title='Proporción de Eventos con Fotografía',\n",
    "        annotations=[dict(text='Fotos', x=0.5, y=0.5, font_size=20, showarrow=False)]\n",
    "    )\n",
    "    fig.show()\n",
    "    \n",
    "    print(f\"\\n✓ Eventos con foto: {photo_stats.get(True, 0)} ({photo_stats.get(True, 0)/len(df)*100:.1f}%)\")\n",
    "    print(f\"✓ Eventos sin foto: {photo_stats.get(False, 0)} ({photo_stats.get(False, 0)/len(df)*100:.1f}%)\")"
   ]
  },
  {
   "cell_type": "markdown",
   "id": "05dfd1f4",
   "metadata": {},
   "source": [
    "### 4.6 Distribución por Día de la Semana"
   ]
  },
  {
   "cell_type": "code",
   "execution_count": null,
   "id": "e04b7002",
   "metadata": {},
   "outputs": [],
   "source": [
    "# Eventos por día de la semana\n",
    "if df is not None and 'day_name' in df.columns:\n",
    "    day_order = ['Monday', 'Tuesday', 'Wednesday', 'Thursday', 'Friday', 'Saturday', 'Sunday']\n",
    "    day_counts = df['day_name'].value_counts().reindex(day_order)\n",
    "    \n",
    "    colors = ['#e74c3c' if day in ['Saturday', 'Sunday'] else '#3498db' for day in day_order]\n",
    "    \n",
    "    fig = go.Figure(data=[go.Bar(\n",
    "        x=day_counts.index,\n",
    "        y=day_counts.values,\n",
    "        marker_color=colors\n",
    "    )])\n",
    "    \n",
    "    fig.update_layout(\n",
    "        title='Distribución de Eventos por Día de la Semana',\n",
    "        xaxis_title='Día',\n",
    "        yaxis_title='Número de Eventos'\n",
    "    )\n",
    "    fig.show()"
   ]
  },
  {
   "cell_type": "markdown",
   "id": "3b0d6da1",
   "metadata": {},
   "source": [
    "### 4.7 Análisis de Periodos del Día"
   ]
  },
  {
   "cell_type": "code",
   "execution_count": null,
   "id": "dc312f52",
   "metadata": {},
   "outputs": [],
   "source": [
    "# Análisis por periodo del día\n",
    "if 'df_features' in locals() and 'period_of_day' in df_features.columns:\n",
    "    period_counts = df_features['period_of_day'].value_counts()\n",
    "    \n",
    "    fig = px.pie(\n",
    "        values=period_counts.values,\n",
    "        names=period_counts.index,\n",
    "        title='Distribución de Eventos por Periodo del Día'\n",
    "    )\n",
    "    fig.show()"
   ]
  },
  {
   "cell_type": "markdown",
   "id": "30c54250",
   "metadata": {},
   "source": [
    "## 5. Generar Informe Completo"
   ]
  },
  {
   "cell_type": "code",
   "execution_count": null,
   "id": "4ddf9395",
   "metadata": {},
   "outputs": [],
   "source": [
    "# Generar informe EDA completo (figuras estáticas + markdown)\n",
    "if df is not None:\n",
    "    eda_analyzer.plot_time_series(df)\n",
    "    eda_analyzer.plot_hourly_distribution(df)\n",
    "    eda_analyzer.plot_daily_distribution(df)\n",
    "    eda_analyzer.plot_photo_analysis(df)\n",
    "    eda_analyzer.generate_report(df, stats)\n",
    "    \n",
    "    print(\"\\n\" + \"=\"*60)\n",
    "    print(\"✓ Informe EDA generado exitosamente\")\n",
    "    print(\"  Ubicación: reports/informe_EDA.md\")\n",
    "    print(\"  Figuras: reports/figures/\")\n",
    "    print(\"=\"*60)"
   ]
  },
  {
   "cell_type": "markdown",
   "id": "ececb534",
   "metadata": {},
   "source": [
    "## 6. Conclusiones"
   ]
  },
  {
   "cell_type": "code",
   "execution_count": null,
   "id": "3c8e77dd",
   "metadata": {},
   "outputs": [],
   "source": [
    "# Resumen final del análisis\n",
    "if df is not None:\n",
    "    print(\"=\" * 70)\n",
    "    print(\"RESUMEN DEL ANÁLISIS EDA Y FEATURE ENGINEERING\")\n",
    "    print(\"=\" * 70)\n",
    "    print(f\"\\n✓ Total de eventos analizados: {len(df):,}\")\n",
    "    print(f\"✓ Características generadas: {len(df_features.columns) if 'df_features' in locals() else 'N/A'}\")\n",
    "    print(f\"✓ Periodo analizado: {(df['date'].max() - df['date'].min()).days} días\")\n",
    "    print(f\"✓ Promedio de eventos/día: {len(df) / ((df['date'].max() - df['date'].min()).days + 1):.2f}\")\n",
    "    \n",
    "    if 'hour' in df.columns:\n",
    "        peak_hour = df['hour'].mode()[0]\n",
    "        print(f\"✓ Hora pico de eventos: {peak_hour}:00\")\n",
    "    \n",
    "    if 'day_name' in df.columns:\n",
    "        peak_day = df['day_name'].mode()[0]\n",
    "        print(f\"✓ Día con más eventos: {peak_day}\")\n",
    "    \n",
    "    print(\"\\n📊 Archivos generados:\")\n",
    "    print(\"   - data/processed/events_features.csv\")\n",
    "    print(\"   - reports/informe_EDA.md\")\n",
    "    print(\"   - reports/figures/*.png\")\n",
    "    \n",
    "    print(\"\\n🎯 Próximos pasos sugeridos:\")\n",
    "    print(\"   1. Configurar Arduino con los sensores\")\n",
    "    print(\"   2. Implementar detección de objetos con OpenCV\")\n",
    "    print(\"   3. Crear sistema de alertas en tiempo real\")\n",
    "    print(\"   4. Entrenar modelos de ML para clasificación de eventos\")\n",
    "    \n",
    "    print(\"\\n\" + \"=\"*70)\n",
    "    print(\"✓ ANÁLISIS COMPLETADO EXITOSAMENTE\")\n",
    "    print(\"=\"*70)"
   ]
  }
 ],
 "metadata": {
  "language_info": {
   "name": "python"
  }
 },
 "nbformat": 4,
 "nbformat_minor": 5
}
